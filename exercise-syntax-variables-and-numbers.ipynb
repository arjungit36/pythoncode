{
 "cells": [
  {
   "cell_type": "markdown",
   "id": "491d198b",
   "metadata": {
    "papermill": {
     "duration": 0.005318,
     "end_time": "2025-09-28T16:53:31.283297",
     "exception": false,
     "start_time": "2025-09-28T16:53:31.277979",
     "status": "completed"
    },
    "tags": []
   },
   "source": [
    "**This notebook is an exercise in the [Python](https://www.kaggle.com/learn/python) course.  You can reference the tutorial at [this link](https://www.kaggle.com/colinmorris/hello-python).**\n",
    "\n",
    "---\n"
   ]
  },
  {
   "cell_type": "markdown",
   "id": "246b43cb",
   "metadata": {
    "papermill": {
     "duration": 0.00417,
     "end_time": "2025-09-28T16:53:31.292130",
     "exception": false,
     "start_time": "2025-09-28T16:53:31.287960",
     "status": "completed"
    },
    "tags": []
   },
   "source": [
    "Welcome to your first set of Python coding problems.  If this is your first time using Kaggle Notebooks, welcome! \n",
    "\n",
    "Notebooks are composed of blocks (called \"cells\") of text and code. Each of these is editable, though you'll mainly be editing the code cells to answer some questions.\n",
    "\n",
    "To get started, try running the code cell below (by pressing the ► button, or clicking on the cell and pressing ctrl+enter on your keyboard)."
   ]
  },
  {
   "cell_type": "code",
   "execution_count": 1,
   "id": "57e43770",
   "metadata": {
    "execution": {
     "iopub.execute_input": "2025-09-28T16:53:31.302098Z",
     "iopub.status.busy": "2025-09-28T16:53:31.301712Z",
     "iopub.status.idle": "2025-09-28T16:53:31.310196Z",
     "shell.execute_reply": "2025-09-28T16:53:31.309029Z"
    },
    "papermill": {
     "duration": 0.015443,
     "end_time": "2025-09-28T16:53:31.311864",
     "exception": false,
     "start_time": "2025-09-28T16:53:31.296421",
     "status": "completed"
    },
    "tags": []
   },
   "outputs": [
    {
     "name": "stdout",
     "output_type": "stream",
     "text": [
      "You've successfully run some Python code\n",
      "Congratulations!\n"
     ]
    }
   ],
   "source": [
    "print(\"You've successfully run some Python code\")\n",
    "print(\"Congratulations!\")"
   ]
  },
  {
   "cell_type": "markdown",
   "id": "54e5a348",
   "metadata": {
    "papermill": {
     "duration": 0.004267,
     "end_time": "2025-09-28T16:53:31.320933",
     "exception": false,
     "start_time": "2025-09-28T16:53:31.316666",
     "status": "completed"
    },
    "tags": []
   },
   "source": [
    "Try adding another line of code in the cell above and re-running it. \n",
    "\n",
    "Now let's get a little fancier:  Add a new code cell by clicking on an existing code cell, hitting the escape key, and then hitting the `a` or `b` key.  The `a` key will add a cell above the current cell, and `b` adds a cell below.\n",
    "\n",
    "Great! Now you know how to use Notebooks.\n",
    "\n",
    "Each hands-on exercise starts by setting up our feedback and code checking mechanism. Run the code cell below to do that. Then you'll be ready to move on to question 0."
   ]
  },
  {
   "cell_type": "code",
   "execution_count": 2,
   "id": "04276a55",
   "metadata": {
    "_kg_hide-input": true,
    "_kg_hide-output": true,
    "execution": {
     "iopub.execute_input": "2025-09-28T16:53:31.331323Z",
     "iopub.status.busy": "2025-09-28T16:53:31.330995Z",
     "iopub.status.idle": "2025-09-28T16:53:33.361544Z",
     "shell.execute_reply": "2025-09-28T16:53:33.360625Z"
    },
    "papermill": {
     "duration": 2.037595,
     "end_time": "2025-09-28T16:53:33.363065",
     "exception": false,
     "start_time": "2025-09-28T16:53:31.325470",
     "status": "completed"
    },
    "tags": []
   },
   "outputs": [
    {
     "name": "stdout",
     "output_type": "stream",
     "text": [
      "Setup complete! You're ready to start question 0.\n"
     ]
    }
   ],
   "source": [
    "from learntools.core import binder; binder.bind(globals())\n",
    "from learntools.python.ex1 import *\n",
    "print(\"Setup complete! You're ready to start question 0.\")"
   ]
  },
  {
   "cell_type": "markdown",
   "id": "8bd279bc",
   "metadata": {
    "papermill": {
     "duration": 0.004266,
     "end_time": "2025-09-28T16:53:33.371789",
     "exception": false,
     "start_time": "2025-09-28T16:53:33.367523",
     "status": "completed"
    },
    "tags": []
   },
   "source": [
    "# 0.\n",
    "\n",
    "*This is a silly question intended as an introduction to the format we use for hands-on exercises throughout all Kaggle courses.*\n",
    "\n",
    "**What is your favorite color? **\n",
    "\n",
    "To complete this question, create a variable called `color` in the cell below with an appropriate value. The function call `q0.check()` (which we've already provided in the cell below) will check your answer."
   ]
  },
  {
   "cell_type": "code",
   "execution_count": 3,
   "id": "677baf7e",
   "metadata": {
    "execution": {
     "iopub.execute_input": "2025-09-28T16:53:33.382029Z",
     "iopub.status.busy": "2025-09-28T16:53:33.381616Z",
     "iopub.status.idle": "2025-09-28T16:53:33.388277Z",
     "shell.execute_reply": "2025-09-28T16:53:33.387310Z"
    },
    "papermill": {
     "duration": 0.013569,
     "end_time": "2025-09-28T16:53:33.389809",
     "exception": false,
     "start_time": "2025-09-28T16:53:33.376240",
     "status": "completed"
    },
    "tags": []
   },
   "outputs": [
    {
     "data": {
      "text/plain": [
       "'yellow'"
      ]
     },
     "execution_count": 3,
     "metadata": {},
     "output_type": "execute_result"
    }
   ],
   "source": [
    "# create a variable called color with an appropriate value on the line below\n",
    "# (Remember, strings in Python must be enclosed in 'single' or \"double\" quotes)\n",
    "color =  (\"yellow\")\n",
    "color\n",
    "# Check your answer\n"
   ]
  },
  {
   "cell_type": "markdown",
   "id": "9aa88be1",
   "metadata": {
    "papermill": {
     "duration": 0.005148,
     "end_time": "2025-09-28T16:53:33.399845",
     "exception": false,
     "start_time": "2025-09-28T16:53:33.394697",
     "status": "completed"
    },
    "tags": []
   },
   "source": [
    "Didn't get the right answer? How do you not even know your own favorite color?!\n",
    "\n",
    "Delete the `#` in the line below to make one of the lines run. You can choose between getting a hint or the full answer by choosing which line to remove the `#` from. \n",
    "\n",
    "Removing the `#` is called uncommenting, because it changes that line from a \"comment\" which Python doesn't run to code, which Python does run."
   ]
  },
  {
   "cell_type": "code",
   "execution_count": 4,
   "id": "1bcaeff3",
   "metadata": {
    "execution": {
     "iopub.execute_input": "2025-09-28T16:53:33.410176Z",
     "iopub.status.busy": "2025-09-28T16:53:33.409868Z",
     "iopub.status.idle": "2025-09-28T16:53:33.414201Z",
     "shell.execute_reply": "2025-09-28T16:53:33.412962Z"
    },
    "papermill": {
     "duration": 0.011588,
     "end_time": "2025-09-28T16:53:33.415953",
     "exception": false,
     "start_time": "2025-09-28T16:53:33.404365",
     "status": "completed"
    },
    "tags": []
   },
   "outputs": [],
   "source": [
    "#q0.hint()\n",
    "#q0.solution()"
   ]
  },
  {
   "cell_type": "markdown",
   "id": "17a750fb",
   "metadata": {
    "papermill": {
     "duration": 0.004308,
     "end_time": "2025-09-28T16:53:33.425147",
     "exception": false,
     "start_time": "2025-09-28T16:53:33.420839",
     "status": "completed"
    },
    "tags": []
   },
   "source": [
    "The upcoming questions work the same way. The only thing that will change are the question numbers. For the next question, you'll call `q1.check()`, `q1.hint()`, `q1.solution()`, for question 2, you'll call `q2.check()`, and so on."
   ]
  },
  {
   "cell_type": "markdown",
   "id": "4d78a9b1",
   "metadata": {
    "papermill": {
     "duration": 0.004643,
     "end_time": "2025-09-28T16:53:33.434352",
     "exception": false,
     "start_time": "2025-09-28T16:53:33.429709",
     "status": "completed"
    },
    "tags": []
   },
   "source": [
    "<hr/>\n",
    "\n",
    "# 1.\n",
    "\n",
    "Complete the code below. In case it's helpful, here is the table of available arithmetic operations:\n",
    "\n",
    "\n",
    "\n",
    "| Operator     | Name           | Description                                            |\n",
    "|--------------|----------------|--------------------------------------------------------|\n",
    "| ``a + b``    | Addition       | Sum of ``a`` and ``b``                                 |\n",
    "| ``a - b``    | Subtraction    | Difference of ``a`` and ``b``                          |\n",
    "| ``a * b``    | Multiplication | Product of ``a`` and ``b``                             |\n",
    "| ``a / b``    | True division  | Quotient of ``a`` and ``b``                            |\n",
    "| ``a // b``   | Floor division | Quotient of ``a`` and ``b``, removing fractional parts |\n",
    "| ``a % b``    | Modulus        | Integer remainder after division of ``a`` by ``b``     |\n",
    "| ``a ** b``   | Exponentiation | ``a`` raised to the power of ``b``                     |\n",
    "| ``-a``       | Negation       | The negative of ``a``                                  |\n",
    "\n",
    "<span style=\"display:none\"></span>\n"
   ]
  },
  {
   "cell_type": "code",
   "execution_count": 5,
   "id": "1be9a00d",
   "metadata": {
    "execution": {
     "iopub.execute_input": "2025-09-28T16:53:33.446108Z",
     "iopub.status.busy": "2025-09-28T16:53:33.445401Z",
     "iopub.status.idle": "2025-09-28T16:53:33.451215Z",
     "shell.execute_reply": "2025-09-28T16:53:33.450249Z"
    },
    "papermill": {
     "duration": 0.013556,
     "end_time": "2025-09-28T16:53:33.452538",
     "exception": false,
     "start_time": "2025-09-28T16:53:33.438982",
     "status": "completed"
    },
    "tags": []
   },
   "outputs": [
    {
     "name": "stdout",
     "output_type": "stream",
     "text": [
      "14.137155\n"
     ]
    }
   ],
   "source": [
    "pi = 3.14159 # approximate\n",
    "diameter = 3\n",
    "\n",
    "# Create a variable called 'radius' equal to half the diameter\n",
    "radius = diameter/2\n",
    "\n",
    "# Create a variable called 'area', using the formula for the area of a circle: pi times the radius squared\n",
    "area = 2*pi*radius**2\n",
    "print(area)\n",
    "\n"
   ]
  },
  {
   "cell_type": "code",
   "execution_count": 6,
   "id": "0b0024c4",
   "metadata": {
    "execution": {
     "iopub.execute_input": "2025-09-28T16:53:33.462921Z",
     "iopub.status.busy": "2025-09-28T16:53:33.462637Z",
     "iopub.status.idle": "2025-09-28T16:53:33.466328Z",
     "shell.execute_reply": "2025-09-28T16:53:33.465590Z"
    },
    "papermill": {
     "duration": 0.010442,
     "end_time": "2025-09-28T16:53:33.467750",
     "exception": false,
     "start_time": "2025-09-28T16:53:33.457308",
     "status": "completed"
    },
    "tags": []
   },
   "outputs": [],
   "source": [
    "# Uncomment and run the lines below if you need help.\n",
    "#q1.hint()\n",
    "#q1.solution()"
   ]
  },
  {
   "cell_type": "markdown",
   "id": "59ac28ff",
   "metadata": {
    "papermill": {
     "duration": 0.004448,
     "end_time": "2025-09-28T16:53:33.476959",
     "exception": false,
     "start_time": "2025-09-28T16:53:33.472511",
     "status": "completed"
    },
    "tags": []
   },
   "source": [
    "<hr/>\n",
    "\n",
    "# 2.\n",
    "\n",
    "Add code to the following cell to swap variables `a` and `b` (so that `a` refers to the object previously referred to by `b` and vice versa)."
   ]
  },
  {
   "cell_type": "code",
   "execution_count": 7,
   "id": "bcd47173",
   "metadata": {
    "execution": {
     "iopub.execute_input": "2025-09-28T16:53:33.487233Z",
     "iopub.status.busy": "2025-09-28T16:53:33.486926Z",
     "iopub.status.idle": "2025-09-28T16:53:33.494828Z",
     "shell.execute_reply": "2025-09-28T16:53:33.493961Z"
    },
    "papermill": {
     "duration": 0.014915,
     "end_time": "2025-09-28T16:53:33.496384",
     "exception": false,
     "start_time": "2025-09-28T16:53:33.481469",
     "status": "completed"
    },
    "tags": []
   },
   "outputs": [
    {
     "data": {
      "application/javascript": [
       "parent.postMessage({\"jupyterEvent\": \"custom.exercise_interaction\", \"data\": {\"outcomeType\": 2, \"failureMessage\": \"`a` and `b` still have their original values.\", \"interactionType\": 1, \"questionType\": 2, \"questionId\": \"2_VariableSwap\", \"learnToolsVersion\": \"0.3.5\", \"valueTowardsCompletion\": 0.0, \"exceptionClass\": \"\", \"trace\": \"\"}}, \"*\")"
      ],
      "text/plain": [
       "<IPython.core.display.Javascript object>"
      ]
     },
     "metadata": {},
     "output_type": "display_data"
    },
    {
     "data": {
      "text/markdown": [
       "<span style=\"color:#cc3333\">Incorrect:</span> `a` and `b` still have their original values."
      ],
      "text/plain": [
       "Incorrect: `a` and `b` still have their original values."
      ]
     },
     "metadata": {},
     "output_type": "display_data"
    }
   ],
   "source": [
    "########### Setup code - don't touch this part ######################\n",
    "# If you're curious, these are examples of lists. We'll talk about \n",
    "# them in depth a few lessons from now. For now, just know that they're\n",
    "# yet another type of Python object, like int or float.\n",
    "a = [1, 2, 3]\n",
    "b = [3, 2, 1]\n",
    "q2.store_original_ids()\n",
    "######################################################################\n",
    "\n",
    "# Your code goes here. Swap the values to which a and b refer.\n",
    "# If you get stuck, you can always uncomment one or both of the lines in\n",
    "# the next cell for a hint, or to peek at the solution.\n",
    "\n",
    "######################################################################\n",
    "\n",
    "# Check your answer\n",
    "q2.check()"
   ]
  },
  {
   "cell_type": "code",
   "execution_count": 8,
   "id": "506913ae",
   "metadata": {
    "execution": {
     "iopub.execute_input": "2025-09-28T16:53:33.507459Z",
     "iopub.status.busy": "2025-09-28T16:53:33.507149Z",
     "iopub.status.idle": "2025-09-28T16:53:33.511509Z",
     "shell.execute_reply": "2025-09-28T16:53:33.510607Z"
    },
    "papermill": {
     "duration": 0.011509,
     "end_time": "2025-09-28T16:53:33.512927",
     "exception": false,
     "start_time": "2025-09-28T16:53:33.501418",
     "status": "completed"
    },
    "tags": []
   },
   "outputs": [],
   "source": [
    "#q2.hint()"
   ]
  },
  {
   "cell_type": "markdown",
   "id": "3779d216",
   "metadata": {
    "papermill": {
     "duration": 0.004671,
     "end_time": "2025-09-28T16:53:33.522611",
     "exception": false,
     "start_time": "2025-09-28T16:53:33.517940",
     "status": "completed"
    },
    "tags": []
   },
   "source": [
    "<hr/>\n",
    "\n",
    "# 3a.\n",
    "\n",
    "Add parentheses to the following expression so that it evaluates to 1."
   ]
  },
  {
   "cell_type": "code",
   "execution_count": 9,
   "id": "dd1f3c84",
   "metadata": {
    "execution": {
     "iopub.execute_input": "2025-09-28T16:53:33.533459Z",
     "iopub.status.busy": "2025-09-28T16:53:33.533167Z",
     "iopub.status.idle": "2025-09-28T16:53:33.537448Z",
     "shell.execute_reply": "2025-09-28T16:53:33.536473Z"
    },
    "papermill": {
     "duration": 0.011369,
     "end_time": "2025-09-28T16:53:33.538882",
     "exception": false,
     "start_time": "2025-09-28T16:53:33.527513",
     "status": "completed"
    },
    "tags": []
   },
   "outputs": [],
   "source": [
    "#q2.solution()"
   ]
  },
  {
   "cell_type": "code",
   "execution_count": 10,
   "id": "067e7d8e",
   "metadata": {
    "execution": {
     "iopub.execute_input": "2025-09-28T16:53:33.550075Z",
     "iopub.status.busy": "2025-09-28T16:53:33.549783Z",
     "iopub.status.idle": "2025-09-28T16:53:33.555354Z",
     "shell.execute_reply": "2025-09-28T16:53:33.554468Z"
    },
    "papermill": {
     "duration": 0.012713,
     "end_time": "2025-09-28T16:53:33.556618",
     "exception": false,
     "start_time": "2025-09-28T16:53:33.543905",
     "status": "completed"
    },
    "tags": []
   },
   "outputs": [
    {
     "data": {
      "text/plain": [
       "4"
      ]
     },
     "execution_count": 10,
     "metadata": {},
     "output_type": "execute_result"
    }
   ],
   "source": [
    " (5 - (3 // 2))\n"
   ]
  },
  {
   "cell_type": "code",
   "execution_count": 11,
   "id": "927e1fff",
   "metadata": {
    "execution": {
     "iopub.execute_input": "2025-09-28T16:53:33.568502Z",
     "iopub.status.busy": "2025-09-28T16:53:33.567838Z",
     "iopub.status.idle": "2025-09-28T16:53:33.571904Z",
     "shell.execute_reply": "2025-09-28T16:53:33.571041Z"
    },
    "papermill": {
     "duration": 0.011475,
     "end_time": "2025-09-28T16:53:33.573408",
     "exception": false,
     "start_time": "2025-09-28T16:53:33.561933",
     "status": "completed"
    },
    "tags": []
   },
   "outputs": [],
   "source": [
    "#q3.a.hint()"
   ]
  },
  {
   "cell_type": "code",
   "execution_count": 12,
   "id": "153ea1f9",
   "metadata": {
    "execution": {
     "iopub.execute_input": "2025-09-28T16:53:33.584859Z",
     "iopub.status.busy": "2025-09-28T16:53:33.584501Z",
     "iopub.status.idle": "2025-09-28T16:53:33.591872Z",
     "shell.execute_reply": "2025-09-28T16:53:33.591173Z"
    },
    "papermill": {
     "duration": 0.014834,
     "end_time": "2025-09-28T16:53:33.593433",
     "exception": false,
     "start_time": "2025-09-28T16:53:33.578599",
     "status": "completed"
    },
    "tags": []
   },
   "outputs": [
    {
     "data": {
      "application/javascript": [
       "parent.postMessage({\"jupyterEvent\": \"custom.exercise_interaction\", \"data\": {\"interactionType\": 3, \"questionType\": 4, \"questionId\": \"3.1_ArithmeticParensEasy\", \"learnToolsVersion\": \"0.3.5\", \"valueTowardsCompletion\": 0.0, \"failureMessage\": \"\", \"exceptionClass\": \"\", \"trace\": \"\", \"outcomeType\": 4}}, \"*\")"
      ],
      "text/plain": [
       "<IPython.core.display.Javascript object>"
      ]
     },
     "metadata": {},
     "output_type": "display_data"
    },
    {
     "data": {
      "text/markdown": [
       "<span style=\"color:#33cc99\">Solution:</span> \n",
       "```python\n",
       "(5 - 3) // 2\n",
       "```"
      ],
      "text/plain": [
       "Solution: \n",
       "```python\n",
       "(5 - 3) // 2\n",
       "```"
      ]
     },
     "metadata": {},
     "output_type": "display_data"
    }
   ],
   "source": [
    "# Check your answer (Run this code cell to receive credit!)\n",
    "q3.a.solution()"
   ]
  },
  {
   "cell_type": "markdown",
   "id": "c5d487a4",
   "metadata": {
    "papermill": {
     "duration": 0.005093,
     "end_time": "2025-09-28T16:53:33.604123",
     "exception": false,
     "start_time": "2025-09-28T16:53:33.599030",
     "status": "completed"
    },
    "tags": []
   },
   "source": [
    "# 3b.  <span title=\"A bit spicy\" style=\"color: darkgreen \">🌶️</span>\n",
    "\n",
    "<small>Questions, like this one, marked a spicy pepper are a bit harder.</small>\n",
    "\n",
    "Add parentheses to the following expression so that it evaluates to 0."
   ]
  },
  {
   "cell_type": "code",
   "execution_count": 13,
   "id": "6486fc00",
   "metadata": {
    "execution": {
     "iopub.execute_input": "2025-09-28T16:53:33.616771Z",
     "iopub.status.busy": "2025-09-28T16:53:33.615997Z",
     "iopub.status.idle": "2025-09-28T16:53:33.621321Z",
     "shell.execute_reply": "2025-09-28T16:53:33.620537Z"
    },
    "papermill": {
     "duration": 0.012747,
     "end_time": "2025-09-28T16:53:33.622610",
     "exception": false,
     "start_time": "2025-09-28T16:53:33.609863",
     "status": "completed"
    },
    "tags": []
   },
   "outputs": [
    {
     "data": {
      "text/plain": [
       "0"
      ]
     },
     "execution_count": 13,
     "metadata": {},
     "output_type": "execute_result"
    }
   ],
   "source": [
    "(8 - 3) * 2 * (-1 + 1)\n"
   ]
  },
  {
   "cell_type": "code",
   "execution_count": 14,
   "id": "ccfa4023",
   "metadata": {
    "execution": {
     "iopub.execute_input": "2025-09-28T16:53:33.634179Z",
     "iopub.status.busy": "2025-09-28T16:53:33.633894Z",
     "iopub.status.idle": "2025-09-28T16:53:33.637786Z",
     "shell.execute_reply": "2025-09-28T16:53:33.636923Z"
    },
    "papermill": {
     "duration": 0.011519,
     "end_time": "2025-09-28T16:53:33.639392",
     "exception": false,
     "start_time": "2025-09-28T16:53:33.627873",
     "status": "completed"
    },
    "tags": []
   },
   "outputs": [],
   "source": [
    "#q3.b.hint()"
   ]
  },
  {
   "cell_type": "code",
   "execution_count": 15,
   "id": "81c7b0ee",
   "metadata": {
    "execution": {
     "iopub.execute_input": "2025-09-28T16:53:33.652182Z",
     "iopub.status.busy": "2025-09-28T16:53:33.651512Z",
     "iopub.status.idle": "2025-09-28T16:53:33.658488Z",
     "shell.execute_reply": "2025-09-28T16:53:33.657752Z"
    },
    "papermill": {
     "duration": 0.01468,
     "end_time": "2025-09-28T16:53:33.659892",
     "exception": false,
     "start_time": "2025-09-28T16:53:33.645212",
     "status": "completed"
    },
    "tags": []
   },
   "outputs": [
    {
     "data": {
      "application/javascript": [
       "parent.postMessage({\"jupyterEvent\": \"custom.exercise_interaction\", \"data\": {\"interactionType\": 3, \"questionType\": 4, \"questionId\": \"3.2_ArithmeticParensHard\", \"learnToolsVersion\": \"0.3.5\", \"valueTowardsCompletion\": 0.0, \"failureMessage\": \"\", \"exceptionClass\": \"\", \"trace\": \"\", \"outcomeType\": 4}}, \"*\")"
      ],
      "text/plain": [
       "<IPython.core.display.Javascript object>"
      ]
     },
     "metadata": {},
     "output_type": "display_data"
    },
    {
     "data": {
      "text/markdown": [
       "<span style=\"color:#33cc99\">Solution:</span> `(8 - 3) * (2 - (1 + 1))` is one solution. There may be others."
      ],
      "text/plain": [
       "Solution: `(8 - 3) * (2 - (1 + 1))` is one solution. There may be others."
      ]
     },
     "metadata": {},
     "output_type": "display_data"
    }
   ],
   "source": [
    "# Check your answer (Run this code cell to receive credit!)\n",
    "q3.b.solution()"
   ]
  },
  {
   "cell_type": "markdown",
   "id": "a2ae0d6e",
   "metadata": {
    "papermill": {
     "duration": 0.005341,
     "end_time": "2025-09-28T16:53:33.671388",
     "exception": false,
     "start_time": "2025-09-28T16:53:33.666047",
     "status": "completed"
    },
    "tags": []
   },
   "source": [
    "<hr/>\n",
    "\n",
    "# 4. \n",
    "Alice, Bob and Carol have agreed to pool their Halloween candy and split it evenly among themselves.\n",
    "For the sake of their friendship, any candies left over will be smashed. For example, if they collectively\n",
    "bring home 91 candies, they'll take 30 each and smash 1.\n",
    "\n",
    "Write an arithmetic expression below to calculate how many candies they must smash for a given haul."
   ]
  },
  {
   "cell_type": "code",
   "execution_count": 16,
   "id": "18b1312d",
   "metadata": {
    "execution": {
     "iopub.execute_input": "2025-09-28T16:53:33.684172Z",
     "iopub.status.busy": "2025-09-28T16:53:33.683411Z",
     "iopub.status.idle": "2025-09-28T16:53:33.689905Z",
     "shell.execute_reply": "2025-09-28T16:53:33.689164Z"
    },
    "papermill": {
     "duration": 0.014394,
     "end_time": "2025-09-28T16:53:33.691250",
     "exception": false,
     "start_time": "2025-09-28T16:53:33.676856",
     "status": "completed"
    },
    "tags": []
   },
   "outputs": [
    {
     "data": {
      "text/plain": [
       "1"
      ]
     },
     "execution_count": 16,
     "metadata": {},
     "output_type": "execute_result"
    }
   ],
   "source": [
    "alice_candies = 121\n",
    "bob_candies = 77\n",
    "carol_candies = 109\n",
    "\n",
    "to_smash = (alice_candies + bob_candies + carol_candies) % 3\n",
    "to_smash\n",
    "# Check your answer\n",
    "\n"
   ]
  },
  {
   "cell_type": "code",
   "execution_count": 17,
   "id": "4e5f6bf4",
   "metadata": {
    "execution": {
     "iopub.execute_input": "2025-09-28T16:53:33.704286Z",
     "iopub.status.busy": "2025-09-28T16:53:33.703660Z",
     "iopub.status.idle": "2025-09-28T16:53:33.707402Z",
     "shell.execute_reply": "2025-09-28T16:53:33.706491Z"
    },
    "papermill": {
     "duration": 0.011735,
     "end_time": "2025-09-28T16:53:33.708799",
     "exception": false,
     "start_time": "2025-09-28T16:53:33.697064",
     "status": "completed"
    },
    "tags": []
   },
   "outputs": [],
   "source": [
    "#q4.hint()\n",
    "#q4.solution()"
   ]
  },
  {
   "cell_type": "markdown",
   "id": "5189c9d6",
   "metadata": {
    "papermill": {
     "duration": 0.006429,
     "end_time": "2025-09-28T16:53:33.721010",
     "exception": false,
     "start_time": "2025-09-28T16:53:33.714581",
     "status": "completed"
    },
    "tags": []
   },
   "source": [
    "# Keep Going\n",
    "\n",
    "Next up, you'll **[learn to write new functions and understand functions others write](https://www.kaggle.com/colinmorris/functions-and-getting-help)**. This will make you at least 10 times more productive as a Python programmer. "
   ]
  },
  {
   "cell_type": "markdown",
   "id": "aaa9c364",
   "metadata": {
    "papermill": {
     "duration": 0.005278,
     "end_time": "2025-09-28T16:53:33.731999",
     "exception": false,
     "start_time": "2025-09-28T16:53:33.726721",
     "status": "completed"
    },
    "tags": []
   },
   "source": [
    "---\n",
    "\n",
    "\n",
    "\n",
    "\n",
    "*Have questions or comments? Visit the [course discussion forum](https://www.kaggle.com/learn/python/discussion) to chat with other learners.*"
   ]
  }
 ],
 "metadata": {
  "kaggle": {
   "accelerator": "none",
   "dataSources": [],
   "isGpuEnabled": false,
   "isInternetEnabled": false,
   "language": "python",
   "sourceType": "notebook"
  },
  "kernelspec": {
   "display_name": "Python 3",
   "language": "python",
   "name": "python3"
  },
  "language_info": {
   "codemirror_mode": {
    "name": "ipython",
    "version": 3
   },
   "file_extension": ".py",
   "mimetype": "text/x-python",
   "name": "python",
   "nbconvert_exporter": "python",
   "pygments_lexer": "ipython3",
   "version": "3.11.13"
  },
  "learntools_metadata": {
   "lesson_index": 0,
   "type": "exercise"
  },
  "papermill": {
   "default_parameters": {},
   "duration": 8.562401,
   "end_time": "2025-09-28T16:53:34.256218",
   "environment_variables": {},
   "exception": null,
   "input_path": "__notebook__.ipynb",
   "output_path": "__notebook__.ipynb",
   "parameters": {},
   "start_time": "2025-09-28T16:53:25.693817",
   "version": "2.6.0"
  }
 },
 "nbformat": 4,
 "nbformat_minor": 5
}
