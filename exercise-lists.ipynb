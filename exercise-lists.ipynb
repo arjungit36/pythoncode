{
 "cells": [
  {
   "cell_type": "markdown",
   "id": "5db39b35",
   "metadata": {
    "papermill": {
     "duration": 0.004884,
     "end_time": "2025-10-01T18:34:46.633924",
     "exception": false,
     "start_time": "2025-10-01T18:34:46.629040",
     "status": "completed"
    },
    "tags": []
   },
   "source": [
    "**This notebook is an exercise in the [Python](https://www.kaggle.com/learn/python) course.  You can reference the tutorial at [this link](https://www.kaggle.com/colinmorris/lists).**\n",
    "\n",
    "---\n"
   ]
  },
  {
   "cell_type": "markdown",
   "id": "5cf098b6",
   "metadata": {
    "papermill": {
     "duration": 0.003873,
     "end_time": "2025-10-01T18:34:46.642810",
     "exception": false,
     "start_time": "2025-10-01T18:34:46.638937",
     "status": "completed"
    },
    "tags": []
   },
   "source": [
    "Things get more interesting with lists. You'll apply your new knowledge to solve the questions below. Remember to run the following cell first."
   ]
  },
  {
   "cell_type": "code",
   "execution_count": 1,
   "id": "c2e0890a",
   "metadata": {
    "execution": {
     "iopub.execute_input": "2025-10-01T18:34:46.653967Z",
     "iopub.status.busy": "2025-10-01T18:34:46.653613Z",
     "iopub.status.idle": "2025-10-01T18:34:49.047297Z",
     "shell.execute_reply": "2025-10-01T18:34:49.046250Z"
    },
    "papermill": {
     "duration": 2.401506,
     "end_time": "2025-10-01T18:34:49.049383",
     "exception": false,
     "start_time": "2025-10-01T18:34:46.647877",
     "status": "completed"
    },
    "tags": []
   },
   "outputs": [
    {
     "name": "stdout",
     "output_type": "stream",
     "text": [
      "Setup complete.\n"
     ]
    }
   ],
   "source": [
    "from learntools.core import binder; binder.bind(globals())\n",
    "from learntools.python.ex4 import *\n",
    "print('Setup complete.')"
   ]
  },
  {
   "cell_type": "markdown",
   "id": "d20c8a19",
   "metadata": {
    "papermill": {
     "duration": 0.004672,
     "end_time": "2025-10-01T18:34:49.058370",
     "exception": false,
     "start_time": "2025-10-01T18:34:49.053698",
     "status": "completed"
    },
    "tags": []
   },
   "source": [
    "# 1.\n",
    "\n",
    "Complete the function below according to its docstring."
   ]
  },
  {
   "cell_type": "code",
   "execution_count": 2,
   "id": "c0f8f175",
   "metadata": {
    "execution": {
     "iopub.execute_input": "2025-10-01T18:34:49.070032Z",
     "iopub.status.busy": "2025-10-01T18:34:49.069556Z",
     "iopub.status.idle": "2025-10-01T18:34:49.077680Z",
     "shell.execute_reply": "2025-10-01T18:34:49.076200Z"
    },
    "papermill": {
     "duration": 0.015906,
     "end_time": "2025-10-01T18:34:49.079506",
     "exception": false,
     "start_time": "2025-10-01T18:34:49.063600",
     "status": "completed"
    },
    "tags": []
   },
   "outputs": [
    {
     "name": "stdout",
     "output_type": "stream",
     "text": [
      "20\n",
      "None\n"
     ]
    }
   ],
   "source": [
    "def select_second(L):\n",
    "    \"\"\"Return the second element of the given list. If the list has no second\n",
    "    element, return None.\n",
    "    \"\"\"\n",
    "    if len(L) < 2:\n",
    "        return None\n",
    "    return L[1]\n",
    "\n",
    "# Example call\n",
    "print(select_second([10, 20, 30]))  # Output: 20\n",
    "print(select_second([5]))           # Output: None\n"
   ]
  },
  {
   "cell_type": "code",
   "execution_count": 3,
   "id": "669cceae",
   "metadata": {
    "execution": {
     "iopub.execute_input": "2025-10-01T18:34:49.089488Z",
     "iopub.status.busy": "2025-10-01T18:34:49.089114Z",
     "iopub.status.idle": "2025-10-01T18:34:49.093836Z",
     "shell.execute_reply": "2025-10-01T18:34:49.092720Z"
    },
    "papermill": {
     "duration": 0.011995,
     "end_time": "2025-10-01T18:34:49.095975",
     "exception": false,
     "start_time": "2025-10-01T18:34:49.083980",
     "status": "completed"
    },
    "tags": []
   },
   "outputs": [],
   "source": [
    "#q1.hint()\n",
    "#q1.solution()"
   ]
  },
  {
   "cell_type": "markdown",
   "id": "31791148",
   "metadata": {
    "papermill": {
     "duration": 0.003888,
     "end_time": "2025-10-01T18:34:49.104118",
     "exception": false,
     "start_time": "2025-10-01T18:34:49.100230",
     "status": "completed"
    },
    "tags": []
   },
   "source": [
    "# 2.\n",
    "\n",
    "You are analyzing sports teams.  Members of each team are stored in a list. The Coach is the first name in the list, the captain is the second name in the list, and other players are listed after that. \n",
    "These lists are stored in another list, which starts with the best team and proceeds through the list to the worst team last.  Complete the function below to select the **captain** of the worst team."
   ]
  },
  {
   "cell_type": "code",
   "execution_count": 4,
   "id": "2e0f8a06",
   "metadata": {
    "execution": {
     "iopub.execute_input": "2025-10-01T18:34:49.114888Z",
     "iopub.status.busy": "2025-10-01T18:34:49.114537Z",
     "iopub.status.idle": "2025-10-01T18:34:49.120617Z",
     "shell.execute_reply": "2025-10-01T18:34:49.119302Z"
    },
    "papermill": {
     "duration": 0.01443,
     "end_time": "2025-10-01T18:34:49.122720",
     "exception": false,
     "start_time": "2025-10-01T18:34:49.108290",
     "status": "completed"
    },
    "tags": []
   },
   "outputs": [],
   "source": [
    "def losing_team_captain(teams):\n",
    "    \"\"\"Given a list of teams, where each team is a list of names, return the 2nd player (captain)\n",
    "    from the last listed team\n",
    "    \"\"\"\n",
    "    if not teams or len(teams[-1]) < 2:\n",
    "        return None\n",
    "    return teams[-1][1]\n"
   ]
  },
  {
   "cell_type": "code",
   "execution_count": 5,
   "id": "bcce0f11",
   "metadata": {
    "execution": {
     "iopub.execute_input": "2025-10-01T18:34:49.132566Z",
     "iopub.status.busy": "2025-10-01T18:34:49.132047Z",
     "iopub.status.idle": "2025-10-01T18:34:49.136944Z",
     "shell.execute_reply": "2025-10-01T18:34:49.135669Z"
    },
    "papermill": {
     "duration": 0.012098,
     "end_time": "2025-10-01T18:34:49.139081",
     "exception": false,
     "start_time": "2025-10-01T18:34:49.126983",
     "status": "completed"
    },
    "tags": []
   },
   "outputs": [],
   "source": [
    "#q2.hint()\n",
    "#q2.solution()"
   ]
  },
  {
   "cell_type": "markdown",
   "id": "aea72893",
   "metadata": {
    "papermill": {
     "duration": 0.004773,
     "end_time": "2025-10-01T18:34:49.148482",
     "exception": false,
     "start_time": "2025-10-01T18:34:49.143709",
     "status": "completed"
    },
    "tags": []
   },
   "source": [
    "# 3.\n",
    "\n",
    "The next iteration of Mario Kart will feature an extra-infuriating new item, the *Purple Shell*. When used, it warps the last place racer into first place and the first place racer into last place. Complete the function below to implement the Purple Shell's effect."
   ]
  },
  {
   "cell_type": "code",
   "execution_count": 6,
   "id": "8772f535",
   "metadata": {
    "execution": {
     "iopub.execute_input": "2025-10-01T18:34:49.160059Z",
     "iopub.status.busy": "2025-10-01T18:34:49.158600Z",
     "iopub.status.idle": "2025-10-01T18:34:49.165538Z",
     "shell.execute_reply": "2025-10-01T18:34:49.164237Z"
    },
    "papermill": {
     "duration": 0.014294,
     "end_time": "2025-10-01T18:34:49.167282",
     "exception": false,
     "start_time": "2025-10-01T18:34:49.152988",
     "status": "completed"
    },
    "tags": []
   },
   "outputs": [],
   "source": [
    "def purple_shell(racers):\n",
    "    \"\"\"Given a list of racers, set the first place racer (at the front of the list) to last\n",
    "    place and vice versa.\n",
    "    \n",
    "    >>> r = [\"Mario\", \"Bowser\", \"Luigi\"]\n",
    "    >>> purple_shell(r)\n",
    "    >>> r\n",
    "    [\"Luigi\", \"Bowser\", \"Mario\"]\n",
    "    \"\"\"\n",
    "    if len(racers) < 2:\n",
    "        return\n",
    "    racers[0], racers[-1] = racers[-1], racers[0]\n"
   ]
  },
  {
   "cell_type": "code",
   "execution_count": 7,
   "id": "b1c89411",
   "metadata": {
    "execution": {
     "iopub.execute_input": "2025-10-01T18:34:49.177446Z",
     "iopub.status.busy": "2025-10-01T18:34:49.177150Z",
     "iopub.status.idle": "2025-10-01T18:34:49.182602Z",
     "shell.execute_reply": "2025-10-01T18:34:49.181362Z"
    },
    "papermill": {
     "duration": 0.012542,
     "end_time": "2025-10-01T18:34:49.184441",
     "exception": false,
     "start_time": "2025-10-01T18:34:49.171899",
     "status": "completed"
    },
    "tags": []
   },
   "outputs": [],
   "source": [
    "#q3.hint()\n",
    "#q3.solution()"
   ]
  },
  {
   "cell_type": "markdown",
   "id": "a1e1b3e6",
   "metadata": {
    "papermill": {
     "duration": 0.003872,
     "end_time": "2025-10-01T18:34:49.192648",
     "exception": false,
     "start_time": "2025-10-01T18:34:49.188776",
     "status": "completed"
    },
    "tags": []
   },
   "source": [
    "# 4.\n",
    "\n",
    "What are the lengths of the following lists? Fill in the variable `lengths` with your predictions. (Try to make a prediction for each list *without* just calling `len()` on it.)"
   ]
  },
  {
   "cell_type": "code",
   "execution_count": 8,
   "id": "0bb028b0",
   "metadata": {
    "execution": {
     "iopub.execute_input": "2025-10-01T18:34:49.203894Z",
     "iopub.status.busy": "2025-10-01T18:34:49.203520Z",
     "iopub.status.idle": "2025-10-01T18:34:49.210088Z",
     "shell.execute_reply": "2025-10-01T18:34:49.208828Z"
    },
    "papermill": {
     "duration": 0.01468,
     "end_time": "2025-10-01T18:34:49.212154",
     "exception": false,
     "start_time": "2025-10-01T18:34:49.197474",
     "status": "completed"
    },
    "tags": []
   },
   "outputs": [
    {
     "name": "stdout",
     "output_type": "stream",
     "text": [
      "[3, 2, 0, 2]\n"
     ]
    }
   ],
   "source": [
    "a = [1, 2, 3]\n",
    "b = [1, [2, 3]]\n",
    "c = []\n",
    "d = [1, 2, 3][1:]\n",
    "\n",
    "lengths = [3, 2, 0, 2]\n",
    "\n",
    "# You can also verify by printing lengths:\n",
    "print(lengths)\n"
   ]
  },
  {
   "cell_type": "code",
   "execution_count": 9,
   "id": "8713145c",
   "metadata": {
    "execution": {
     "iopub.execute_input": "2025-10-01T18:34:49.222643Z",
     "iopub.status.busy": "2025-10-01T18:34:49.222258Z",
     "iopub.status.idle": "2025-10-01T18:34:49.227784Z",
     "shell.execute_reply": "2025-10-01T18:34:49.226538Z"
    },
    "papermill": {
     "duration": 0.013596,
     "end_time": "2025-10-01T18:34:49.230201",
     "exception": false,
     "start_time": "2025-10-01T18:34:49.216605",
     "status": "completed"
    },
    "tags": []
   },
   "outputs": [],
   "source": [
    "# line below provides some explanation\n",
    "#q4.solution()"
   ]
  },
  {
   "cell_type": "markdown",
   "id": "f41d8bd6",
   "metadata": {
    "papermill": {
     "duration": 0.003936,
     "end_time": "2025-10-01T18:34:49.238888",
     "exception": false,
     "start_time": "2025-10-01T18:34:49.234952",
     "status": "completed"
    },
    "tags": []
   },
   "source": [
    "# 5. <span title=\"A bit spicy\" style=\"color: darkgreen \">🌶️</span>\n",
    "\n",
    "We're using lists to record people who attended our party and what order they arrived in. For example, the following list represents a party with 7 guests, in which Adela showed up first and Ford was the last to arrive:\n",
    "\n",
    "    party_attendees = ['Adela', 'Fleda', 'Owen', 'May', 'Mona', 'Gilbert', 'Ford']\n",
    "\n",
    "A guest is considered 'fashionably late' if they arrived after at least half of the party's guests. However, they must not be the very last guest (that's taking it too far). In the above example, Mona and Gilbert are the only guests who were fashionably late.\n",
    "\n",
    "Complete the function below which takes a list of party attendees as well as a person, and tells us whether that person is fashionably late."
   ]
  },
  {
   "cell_type": "code",
   "execution_count": 10,
   "id": "4286b7b5",
   "metadata": {
    "execution": {
     "iopub.execute_input": "2025-10-01T18:34:49.248960Z",
     "iopub.status.busy": "2025-10-01T18:34:49.248626Z",
     "iopub.status.idle": "2025-10-01T18:34:49.256241Z",
     "shell.execute_reply": "2025-10-01T18:34:49.254685Z"
    },
    "papermill": {
     "duration": 0.015227,
     "end_time": "2025-10-01T18:34:49.258301",
     "exception": false,
     "start_time": "2025-10-01T18:34:49.243074",
     "status": "completed"
    },
    "tags": []
   },
   "outputs": [],
   "source": [
    "def fashionably_late(arrivals, name):\n",
    "    \"\"\"Given an ordered list of arrivals to the party and a name, return whether the guest with that\n",
    "    name was fashionably late.\"\"\"\n",
    "    total_guests = len(arrivals)\n",
    "    if name not in arrivals:\n",
    "        return False  # Guest not found in arrivals\n",
    "    \n",
    "    index = arrivals.index(name)  # zero-based index of guest\n",
    "    \n",
    "    # Guest is fashionably late if they arrived after at least half the guests,\n",
    "    # but not the very last guest.\n",
    "    return index >= total_guests // 2 and index != total_guests - 1\n"
   ]
  },
  {
   "cell_type": "code",
   "execution_count": 11,
   "id": "c1a2a626",
   "metadata": {
    "execution": {
     "iopub.execute_input": "2025-10-01T18:34:49.269130Z",
     "iopub.status.busy": "2025-10-01T18:34:49.268805Z",
     "iopub.status.idle": "2025-10-01T18:34:49.274039Z",
     "shell.execute_reply": "2025-10-01T18:34:49.272911Z"
    },
    "papermill": {
     "duration": 0.012872,
     "end_time": "2025-10-01T18:34:49.275963",
     "exception": false,
     "start_time": "2025-10-01T18:34:49.263091",
     "status": "completed"
    },
    "tags": []
   },
   "outputs": [],
   "source": [
    "#q5.hint()\n",
    "#q5.solution()"
   ]
  },
  {
   "cell_type": "markdown",
   "id": "29a25e73",
   "metadata": {
    "papermill": {
     "duration": 0.003886,
     "end_time": "2025-10-01T18:34:49.284263",
     "exception": false,
     "start_time": "2025-10-01T18:34:49.280377",
     "status": "completed"
    },
    "tags": []
   },
   "source": [
    "# Keep Going\n",
    "\n",
    "That's it for lists and tuples! Now you have the baseline knowledge to **[learn about loops](https://www.kaggle.com/colinmorris/loops-and-list-comprehensions)**, which is where lists and tuples get really interesting. "
   ]
  },
  {
   "cell_type": "markdown",
   "id": "67ae07c7",
   "metadata": {
    "papermill": {
     "duration": 0.003746,
     "end_time": "2025-10-01T18:34:49.292049",
     "exception": false,
     "start_time": "2025-10-01T18:34:49.288303",
     "status": "completed"
    },
    "tags": []
   },
   "source": [
    "---\n",
    "\n",
    "\n",
    "\n",
    "\n",
    "*Have questions or comments? Visit the [course discussion forum](https://www.kaggle.com/learn/python/discussion) to chat with other learners.*"
   ]
  }
 ],
 "metadata": {
  "kaggle": {
   "accelerator": "none",
   "dataSources": [],
   "isGpuEnabled": false,
   "isInternetEnabled": false,
   "language": "python",
   "sourceType": "notebook"
  },
  "kernelspec": {
   "display_name": "Python 3",
   "language": "python",
   "name": "python3"
  },
  "language_info": {
   "codemirror_mode": {
    "name": "ipython",
    "version": 3
   },
   "file_extension": ".py",
   "mimetype": "text/x-python",
   "name": "python",
   "nbconvert_exporter": "python",
   "pygments_lexer": "ipython3",
   "version": "3.11.13"
  },
  "learntools_metadata": {
   "lesson_index": 3,
   "type": "exercise"
  },
  "papermill": {
   "default_parameters": {},
   "duration": 9.931247,
   "end_time": "2025-10-01T18:34:49.816483",
   "environment_variables": {},
   "exception": null,
   "input_path": "__notebook__.ipynb",
   "output_path": "__notebook__.ipynb",
   "parameters": {},
   "start_time": "2025-10-01T18:34:39.885236",
   "version": "2.6.0"
  }
 },
 "nbformat": 4,
 "nbformat_minor": 5
}
